{
  "nbformat": 4,
  "nbformat_minor": 0,
  "metadata": {
    "colab": {
      "provenance": [],
      "authorship_tag": "ABX9TyPmu6A7KvUSx0uMb/AuFq+C",
      "include_colab_link": true
    },
    "kernelspec": {
      "name": "python3",
      "display_name": "Python 3"
    },
    "language_info": {
      "name": "python"
    }
  },
  "cells": [
    {
      "cell_type": "markdown",
      "metadata": {
        "id": "view-in-github",
        "colab_type": "text"
      },
      "source": [
        "<a href=\"https://colab.research.google.com/github/keerthysuresh/Data-Structure-Lab/blob/main/Copy_of_DataScience.ipynb\" target=\"_parent\"><img src=\"https://colab.research.google.com/assets/colab-badge.svg\" alt=\"Open In Colab\"/></a>"
      ]
    },
    {
      "cell_type": "code",
      "source": [
        "import numpy as np\n",
        "a=np.array([1,2,3])\n",
        "print(\"one dimensional array a=\",a)\n",
        "b=np.array(([1,2,3],[4,5,6]))\n",
        "print(\"2D array b=\",b)\n",
        "print(\"size of thearray:\",a.shape)\n",
        "print(\"Element at indices 0,1,2:\",a[0],a[1],a[2])\n",
        "a[0]=5\n",
        "print(\"array after changing the element at index 0:\",a)\n",
        "a=np.zeros((2,2))\n",
        "print(\"an array of zeros:\",a)\n",
        "a=np.ones((1,2))\n",
        "print(\"an array of all ones:\",b)\n",
        "c=np.full((2,2),7)\n",
        "print(\"a constant array:\",c)\n",
        "d=np.eye(2)\n",
        "print(\"A 2*2 identify matrix:\",d)\n",
        "e=np.random.random((2,2))\n",
        "print(\"an array with random value:\",e)"
      ],
      "metadata": {
        "id": "KAOGcbYGdCBG",
        "outputId": "7db6dcd5-82f0-4551-8adb-0d1fda4dc15a",
        "colab": {
          "base_uri": "https://localhost:8080/"
        }
      },
      "execution_count": 3,
      "outputs": [
        {
          "output_type": "stream",
          "name": "stdout",
          "text": [
            "one dimensional array a= [1 2 3]\n",
            "2D array b= [[1 2 3]\n",
            " [4 5 6]]\n",
            "size of thearray: (3,)\n",
            "Element at indices 0,1,2: 1 2 3\n",
            "array after changing the element at index 0: [5 2 3]\n",
            "an array of zeros: [[0. 0.]\n",
            " [0. 0.]]\n",
            "an array of all ones: [[1 2 3]\n",
            " [4 5 6]]\n",
            "a constant array: [[7 7]\n",
            " [7 7]]\n",
            "A 2*2 identify matrix: [[1. 0.]\n",
            " [0. 1.]]\n",
            "an array with random value: [[0.16752387 0.58199204]\n",
            " [0.72074782 0.69923708]]\n"
          ]
        }
      ]
    },
    {
      "cell_type": "code",
      "source": [
        "import numpy as np\n",
        "\n",
        "print(\"Array indexing: slicing\")\n",
        "a1 = np.array([[1, 2, 3, 4], [5, 6, 7, 8], [9, 10, 11, 12]])\n",
        "print(\"a1 =\", a1)\n",
        "\n",
        "b = a1[:2, 1:3]\n",
        "print(\"Subarray consisting of the first two rows and columns 1 and 2:\", b)\n",
        "\n",
        "b = a1[1:2, :]\n",
        "print(\"Subarray consists of the second row:\", b)\n",
        "\n",
        "print(\"Accessing columns:\")\n",
        "c = a1[:, 1:2]\n",
        "print(c, c.shape)\n",
        "\n",
        "print(\"Array integer indexing:\")\n",
        "a2 = np.array([[1, 2], [3, 4], [5, 6]])\n",
        "print(\"a2 =\", a2)\n",
        "\n",
        "print(\"Example of array integer indexing:\", a2[[0, 1, 2], [0, 1, 0]])\n",
        "print(a2[[0, 0], [1, 1]])\n",
        "print(np.array([a2[0, 1], a2[0, 1]]))\n",
        "\n",
        "a3 = np.array([[1, 2, 3], [4, 5, 6], [7, 8, 9], [10, 11, 12]])\n",
        "print(\"a3 =\", a3)\n",
        "\n",
        "# Create an array of indices\n",
        "b = np.array([0, 2, 0, 1])\n",
        "print(\"b =\", b)\n",
        "\n",
        "print(\"Select one element from each row of a using the indices in b:\")\n",
        "print(\"a3 =\", a3[np.arange(4), b])\n",
        "\n",
        "a3[np.arange(4), b] += 10\n",
        "print(\"a3 =\", a3)\n",
        "\n",
        "print(\"Boolean array indexing:\")\n",
        "a = np.array([[1, 2], [3, 4], [5, 6]])\n",
        "print(\"a =\", a)\n",
        "\n",
        "bool_idx = (a > 2)\n",
        "print(\"Elements greater than 2:\", a[bool_idx])"
      ],
      "metadata": {
        "colab": {
          "base_uri": "https://localhost:8080/"
        },
        "id": "2jBiDalaKSPr",
        "outputId": "87c159f0-6668-4690-c198-06ebdfd48851"
      },
      "execution_count": null,
      "outputs": [
        {
          "output_type": "stream",
          "name": "stdout",
          "text": [
            "Array indexing: slicing\n",
            "a1 = [[ 1  2  3  4]\n",
            " [ 5  6  7  8]\n",
            " [ 9 10 11 12]]\n",
            "Subarray consisting of the first two rows and columns 1 and 2: [[2 3]\n",
            " [6 7]]\n",
            "Subarray consists of the second row: [[5 6 7 8]]\n",
            "Accessing columns:\n",
            "[[ 2]\n",
            " [ 6]\n",
            " [10]] (3, 1)\n",
            "Array integer indexing:\n",
            "a2 = [[1 2]\n",
            " [3 4]\n",
            " [5 6]]\n",
            "Example of array integer indexing: [1 4 5]\n",
            "[2 2]\n",
            "[2 2]\n",
            "a3 = [[ 1  2  3]\n",
            " [ 4  5  6]\n",
            " [ 7  8  9]\n",
            " [10 11 12]]\n",
            "b = [0 2 0 1]\n",
            "Select one element from each row of a using the indices in b:\n",
            "a3 = [ 1  6  7 11]\n",
            "a3 = [[11  2  3]\n",
            " [ 4  5 16]\n",
            " [17  8  9]\n",
            " [10 21 12]]\n",
            "Boolean array indexing:\n",
            "a = [[1 2]\n",
            " [3 4]\n",
            " [5 6]]\n",
            "Elements greater than 2: [3 4 5 6]\n"
          ]
        }
      ]
    },
    {
      "cell_type": "code",
      "source": [
        "import numpy as np\n",
        "\n",
        "x = np.array([[1, 2], [3, 4]], dtype=np.float64)\n",
        "y = np.array([[6, 9], [4, 4]], dtype=np.float64)\n",
        "\n",
        "print(\"Element wise addition:\", np.add(x, x))\n",
        "print(\"x =\", x)\n",
        "print(\"y =\", y)\n",
        "print(\"Element wise subtraction:\", np.subtract(x, y))\n",
        "print(\"Element wise multiplication:\", np.multiply(x, y))\n",
        "print(\"Element wise square root of x:\", np.sqrt(x))\n",
        "print(\"Matrix multiplication:\", np.dot(x, y))\n",
        "print(\"Sum of all elements of matrix x:\", np.sum(x))\n",
        "print(\"Sum of elements in each column of matrix y:\", np.sum(y, axis=0))\n",
        "print(\"Sum of elements in each row of matrix y:\", np.sum(y, axis=1))\n",
        "print(\"Transpose of matrix x:\", x.T)"
      ],
      "metadata": {
        "colab": {
          "base_uri": "https://localhost:8080/"
        },
        "id": "BsgFQ55bKXHn",
        "outputId": "8f1fcd9b-9070-459e-8062-7c9867fc01a3"
      },
      "execution_count": null,
      "outputs": [
        {
          "output_type": "stream",
          "name": "stdout",
          "text": [
            "Element wise addition: [[2. 4.]\n",
            " [6. 8.]]\n",
            "x = [[1. 2.]\n",
            " [3. 4.]]\n",
            "y = [[6. 9.]\n",
            " [4. 4.]]\n",
            "Element wise subtraction: [[-5. -7.]\n",
            " [-1.  0.]]\n",
            "Element wise multiplication: [[ 6. 18.]\n",
            " [12. 16.]]\n",
            "Element wise square root of x: [[1.         1.41421356]\n",
            " [1.73205081 2.        ]]\n",
            "Matrix multiplication: [[14. 17.]\n",
            " [34. 43.]]\n",
            "Sum of all elements of matrix x: 10.0\n",
            "Sum of elements in each column of matrix y: [10. 13.]\n",
            "Sum of elements in each row of matrix y: [15.  8.]\n",
            "Transpose of matrix x: [[1. 3.]\n",
            " [2. 4.]]\n"
          ]
        }
      ]
    },
    {
      "cell_type": "code",
      "source": [],
      "metadata": {
        "id": "wxs48UXKcxxZ"
      },
      "execution_count": null,
      "outputs": []
    },
    {
      "cell_type": "code",
      "execution_count": null,
      "metadata": {
        "colab": {
          "base_uri": "https://localhost:8080/"
        },
        "id": "qlGD1hBOJiAP",
        "outputId": "7abab5d6-74c3-463f-ee39-f2acbd7cb8e7"
      },
      "outputs": [
        {
          "output_type": "stream",
          "name": "stdout",
          "text": [
            "Example for broadcasting: \n",
            "v =  [1 2 3]\n",
            "w= [4 5]\n",
            "Outer product of above vectors: \n",
            "[[ 4  5]\n",
            " [ 8 10]\n",
            " [12 15]]\n",
            "x =  [[1 2 3]\n",
            " [4 5 6]]\n",
            "Resultant matrix after adding the vector x to each row of matrix v: \n",
            "[[2 4 6]\n",
            " [5 7 9]]\n",
            "Example for broadcasting fails: \n",
            "Adding the vector x to each column of matrix w will generate an error\n",
            "Solution: Reshape the matrix w then the result will be: \n",
            "[[ 5  6  7]\n",
            " [ 9 10 11]]\n"
          ]
        }
      ],
      "source": [
        "import numpy as np\n",
        "print(\"Example for broadcasting: \")\n",
        "v=np.array([1,2,3])\n",
        "w=np.array([4,5])\n",
        "print(\"v = \",v)\n",
        "print(\"w=\",w)\n",
        "print(\"Outer product of above vectors: \")\n",
        "print(np.reshape(v,(3,1))*w)\n",
        "x=np.array([[1,2,3],[4,5,6]])\n",
        "print(\"x = \",x)\n",
        "print(\"Resultant matrix after adding the vector x to each row of matrix v: \")\n",
        "print(x+v)\n",
        "print(\"Example for broadcasting fails: \")\n",
        "print(\"Adding the vector x to each column of matrix w will generate an error\")\n",
        "print(\"Solution: Reshape the matrix w then the result will be: \")\n",
        "print(x+np.reshape(w,(2,1)))"
      ]
    },
    {
      "cell_type": "code",
      "source": [
        "import numpy as np\n",
        "\n",
        "v = np.array([1, 2, 3])\n",
        "w = np.array([4, 5])\n",
        "print(\"v =\", v)\n",
        "print(\"w =\", w)\n",
        "print(\"Outer product of the above vectors:\")\n",
        "print(np.reshape(v, (3, 1)) * w)\n",
        "x = np.array([[1, 2, 3], [4, 5, 6]])\n",
        "print(\"x =\", x)\n",
        "print(\"Resultant matrix after adding the vector x to each row of matrix v:\")\n",
        "print(x + v)\n",
        "print(\"Adding the vector x to each column of matrix w will generate an error\")\n",
        "print(\"Solution: Reshape the matrix w; then the result will be:\")\n",
        "print(x + np.reshape(w, (2, 1)))"
      ],
      "metadata": {
        "colab": {
          "base_uri": "https://localhost:8080/"
        },
        "id": "E3qHf81tKd_I",
        "outputId": "799999a0-398e-4379-914d-378327e3ba89"
      },
      "execution_count": null,
      "outputs": [
        {
          "output_type": "stream",
          "name": "stdout",
          "text": [
            "v = [1 2 3]\n",
            "w = [4 5]\n",
            "Outer product of the above vectors:\n",
            "[[ 4  5]\n",
            " [ 8 10]\n",
            " [12 15]]\n",
            "x = [[1 2 3]\n",
            " [4 5 6]]\n",
            "Resultant matrix after adding the vector x to each row of matrix v:\n",
            "[[2 4 6]\n",
            " [5 7 9]]\n",
            "Adding the vector x to each column of matrix w will generate an error\n",
            "Solution: Reshape the matrix w; then the result will be:\n",
            "[[ 5  6  7]\n",
            " [ 9 10 11]]\n"
          ]
        }
      ]
    },
    {
      "cell_type": "code",
      "source": [
        "from numpy import array\n",
        "from scipy.linalg import svd\n",
        "\n",
        "A = array([[1, 2], [3, 4], [5, 6]])\n",
        "U, s, VT = svd(A)\n",
        "\n",
        "print(\"A =\", A)\n",
        "print(\"Shape of array A:\", A.shape)\n",
        "print(\"\")\n",
        "print(\"U =\", U)\n",
        "print(\"Shape of matrix U:\", U.shape)\n",
        "print(\"\")\n",
        "print(\"Sigma (diagonal matrix), s =\", s)\n",
        "print(\"Shape of matrix sigma:\", s.shape)\n",
        "print(\"\")\n",
        "print(\"Transpose Matrix, VT =\", VT)\n",
        "print(\"Shape of matrix VT:\", VT.shape)"
      ],
      "metadata": {
        "colab": {
          "base_uri": "https://localhost:8080/"
        },
        "id": "AtmdJ_KAKfK_",
        "outputId": "5333d953-7fe6-41f7-fa8e-c7537fea889a"
      },
      "execution_count": null,
      "outputs": [
        {
          "output_type": "stream",
          "name": "stdout",
          "text": [
            "A = [[1 2]\n",
            " [3 4]\n",
            " [5 6]]\n",
            "Shape of array A: (3, 2)\n",
            "\n",
            "U = [[-0.2298477   0.88346102  0.40824829]\n",
            " [-0.52474482  0.24078249 -0.81649658]\n",
            " [-0.81964194 -0.40189603  0.40824829]]\n",
            "Shape of matrix U: (3, 3)\n",
            "\n",
            "Sigma (diagonal matrix), s = [9.52551809 0.51430058]\n",
            "Shape of matrix sigma: (2,)\n",
            "\n",
            "Transpose Matrix, VT = [[-0.61962948 -0.78489445]\n",
            " [-0.78489445  0.61962948]]\n",
            "Shape of matrix VT: (2, 2)\n"
          ]
        }
      ]
    },
    {
      "cell_type": "code",
      "source": [
        "from numpy import array, diag, dot, zeros\n",
        "from scipy.linalg import svd\n",
        "\n",
        "A = array([[1, 2], [3, 4], [5, 6]])\n",
        "print(\"A = \", A)\n",
        "print(A.shape)\n",
        "\n",
        "U, s, VT = svd(A)\n",
        "print(\"U =\", U)\n",
        "print(U.shape)\n",
        "print(\"s = \", s)\n",
        "print(s.shape)\n",
        "print(\"VT = \", VT)\n",
        "print(VT.shape)\n",
        "\n",
        "sigma = zeros((A.shape[0], A.shape[1]))\n",
        "sigma[:A.shape[1], :A.shape[1]] = diag(s)\n",
        "B = U.dot(sigma.dot(VT))\n",
        "print(\"Reconstructed matrix: \", B)"
      ],
      "metadata": {
        "colab": {
          "base_uri": "https://localhost:8080/"
        },
        "id": "VaCRDCr2Ki8H",
        "outputId": "f96eeb3c-fb22-4048-89ea-bbaf569345b0"
      },
      "execution_count": null,
      "outputs": [
        {
          "output_type": "stream",
          "name": "stdout",
          "text": [
            "A =  [[1 2]\n",
            " [3 4]\n",
            " [5 6]]\n",
            "(3, 2)\n",
            "U = [[-0.2298477   0.88346102  0.40824829]\n",
            " [-0.52474482  0.24078249 -0.81649658]\n",
            " [-0.81964194 -0.40189603  0.40824829]]\n",
            "(3, 3)\n",
            "s =  [9.52551809 0.51430058]\n",
            "(2,)\n",
            "VT =  [[-0.61962948 -0.78489445]\n",
            " [-0.78489445  0.61962948]]\n",
            "(2, 2)\n",
            "Reconstructed matrix:  [[1. 2.]\n",
            " [3. 4.]\n",
            " [5. 6.]]\n"
          ]
        }
      ]
    },
    {
      "cell_type": "code",
      "source": [
        "from numpy import array, diag, zeros\n",
        "from scipy.linalg import pinv\n",
        "from numpy.linalg import svd\n",
        "\n",
        "A = array([[1, 2], [3, 4], [5, 6]])\n",
        "\n",
        "print(\"Pseudoinverse of matrix A calculated by function pinv is:\")\n",
        "print(pinv(A))\n",
        "\n",
        "U, s, VT = svd(A)\n",
        "d = 1.0 / s\n",
        "D = zeros(A.shape)\n",
        "D[:A.shape[1], :A.shape[1]] = diag(d)\n",
        "B = VT.T.dot(D.T).dot(U.T)\n",
        "\n",
        "print(\"Pseudoinverse of matrix A calculated by using svd is:\")\n",
        "print(B)"
      ],
      "metadata": {
        "colab": {
          "base_uri": "https://localhost:8080/"
        },
        "id": "X2c_7QDCKmLY",
        "outputId": "bd96fec0-6752-4f2e-cea3-9fabd40a8166"
      },
      "execution_count": null,
      "outputs": [
        {
          "output_type": "stream",
          "name": "stdout",
          "text": [
            "Pseudoinverse of matrix A calculated by function pinv is:\n",
            "[[-1.33333333 -0.33333333  0.66666667]\n",
            " [ 1.08333333  0.33333333 -0.41666667]]\n",
            "Pseudoinverse of matrix A calculated by using svd is:\n",
            "[[-1.33333333 -0.33333333  0.66666667]\n",
            " [ 1.08333333  0.33333333 -0.41666667]]\n"
          ]
        }
      ]
    },
    {
      "cell_type": "code",
      "source": [
        "from numpy import array,diag,zeros\n",
        "from sklearn.decomposition import TruncatedSVD\n",
        "from numpy.linalg import svd\n",
        "A=array([[1,2,3,4,5,6,7,8,9,10],[11,12,13,14,15,16,17,18,19,20],[21,22,23,24,25,26,27,28,29,30]])\n",
        "print(\"A=\",A)\n",
        "print(\"\")\n",
        "U,s,VT=svd(A)\n",
        "sigma=zeros((A.shape[0],A.shape[1]))\n",
        "sigma[:A.shape[0],:A.shape[0]]=diag(s)\n",
        "sigma=sigma[:,:2]\n",
        "T=U.dot(sigma)\n",
        "T=A.dot(VT.T)\n",
        "print(\"Transform of the originalmatrix using svdis:\")\n",
        "print(T)\n",
        "print(\"\")\n",
        "svd=TruncatedSVD(2)\n",
        "svd.fit(A)\n",
        "result=svd.transform(A)\n",
        "print(\"Transformed version:\")\n",
        "print(result)"
      ],
      "metadata": {
        "colab": {
          "base_uri": "https://localhost:8080/"
        },
        "id": "hHEjtSYjWFKw",
        "outputId": "ef8e1f24-d8aa-4140-d470-81c361404c7e"
      },
      "execution_count": null,
      "outputs": [
        {
          "output_type": "stream",
          "name": "stdout",
          "text": [
            "A= [[ 1  2  3  4  5  6  7  8  9 10]\n",
            " [11 12 13 14 15 16 17 18 19 20]\n",
            " [21 22 23 24 25 26 27 28 29 30]]\n",
            "\n",
            "Transform of the originalmatrix using svdis:\n",
            "[[-1.85215775e+01  6.47697214e+00 -1.60982339e-15  5.06539255e-16\n",
            "   8.32667268e-16  6.38378239e-16 -2.22044605e-16  0.00000000e+00\n",
            "   0.00000000e+00 -6.66133815e-16]\n",
            " [-4.98131001e+01  1.91182038e+00 -3.21964677e-15  5.41233725e-16\n",
            "   3.21964677e-15 -2.77555756e-16  1.33226763e-15  8.88178420e-16\n",
            "  -8.88178420e-16  2.22044605e-15]\n",
            " [-8.11046228e+01 -2.65333138e+00 -3.55271368e-15  3.55271368e-15\n",
            "   5.32907052e-15  0.00000000e+00  7.10542736e-15  3.55271368e-15\n",
            "  -1.77635684e-15  5.10702591e-15]]\n",
            "\n",
            "Transformed version:\n",
            "[[18.52157747  6.47697214]\n",
            " [49.81310011  1.91182038]\n",
            " [81.10462276 -2.65333138]]\n"
          ]
        }
      ]
    }
  ]
}